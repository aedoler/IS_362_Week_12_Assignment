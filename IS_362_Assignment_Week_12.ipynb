{
 "cells": [
  {
   "cell_type": "markdown",
   "metadata": {},
   "source": [
    "## Week 12 Assignment\n",
    "\n",
    "### Alexander Doler\n",
    "\n",
    "### IS 362"
   ]
  },
  {
   "cell_type": "markdown",
   "metadata": {},
   "source": [
    "In the first cell we import the required libraries, including urllib, which is used to retrieve the information online, and json, which is used to interpret the data retrieved in json format. We then compose the url we will be using, which contains the API key."
   ]
  },
  {
   "cell_type": "code",
   "execution_count": 27,
   "metadata": {
    "collapsed": false
   },
   "outputs": [
    {
     "name": "stdout",
     "output_type": "stream",
     "text": [
      "http://api.nytimes.com/svc/mostpopular/v2/mostviewed/Technology/30.json?begin_date=20170101&end_date=20170101&page=Technology&api-key=1286876d79f94454838e967fc8cc1f20\n"
     ]
    }
   ],
   "source": [
    "import pandas as pd\n",
    "import urllib.request\n",
    "import json\n",
    "\n",
    "key = \"1286876d79f94454838e967fc8cc1f20\"\n",
    "\n",
    "url = 'https://api.nytimes.com/svc/mostpopular/v2/mostviewed/Technology/30.json?'\n",
    "\n",
    "#url2 = \"http://api.nytimes.com/svc/mostpopular/v2/mostviewed/Technology/30.json?begin_date=\" + '20170101' + \"&end_date=\" + '20170101' + \"&page=\" + str('Technology') + \"&api-key=\" + key\n",
    "\n",
    "url = url+'&api-key='+key\n",
    "\n",
    "print(url2)\n",
    "\n",
    "\n",
    "\n"
   ]
  },
  {
   "cell_type": "markdown",
   "metadata": {},
   "source": [
    "In this cell, we access the data located at the URL and read it in a json format. We then decode the json data and load it into a pandas dataframe."
   ]
  },
  {
   "cell_type": "code",
   "execution_count": 28,
   "metadata": {
    "collapsed": false,
    "scrolled": true
   },
   "outputs": [
    {
     "data": {
      "text/html": [
       "<div>\n",
       "<table border=\"1\" class=\"dataframe\">\n",
       "  <thead>\n",
       "    <tr style=\"text-align: right;\">\n",
       "      <th></th>\n",
       "      <th>copyright</th>\n",
       "      <th>num_results</th>\n",
       "      <th>results</th>\n",
       "      <th>status</th>\n",
       "    </tr>\n",
       "  </thead>\n",
       "  <tbody>\n",
       "    <tr>\n",
       "      <th>0</th>\n",
       "      <td>Copyright (c) 2017 The New York Times Company....</td>\n",
       "      <td>11</td>\n",
       "      <td>{'section': 'Technology', 'type': 'Article', '...</td>\n",
       "      <td>OK</td>\n",
       "    </tr>\n",
       "    <tr>\n",
       "      <th>1</th>\n",
       "      <td>Copyright (c) 2017 The New York Times Company....</td>\n",
       "      <td>11</td>\n",
       "      <td>{'section': 'Technology', 'type': 'Article', '...</td>\n",
       "      <td>OK</td>\n",
       "    </tr>\n",
       "    <tr>\n",
       "      <th>2</th>\n",
       "      <td>Copyright (c) 2017 The New York Times Company....</td>\n",
       "      <td>11</td>\n",
       "      <td>{'section': 'Technology', 'type': 'Article', '...</td>\n",
       "      <td>OK</td>\n",
       "    </tr>\n",
       "    <tr>\n",
       "      <th>3</th>\n",
       "      <td>Copyright (c) 2017 The New York Times Company....</td>\n",
       "      <td>11</td>\n",
       "      <td>{'section': 'Technology', 'type': 'Article', '...</td>\n",
       "      <td>OK</td>\n",
       "    </tr>\n",
       "    <tr>\n",
       "      <th>4</th>\n",
       "      <td>Copyright (c) 2017 The New York Times Company....</td>\n",
       "      <td>11</td>\n",
       "      <td>{'section': 'Technology', 'type': 'Article', '...</td>\n",
       "      <td>OK</td>\n",
       "    </tr>\n",
       "    <tr>\n",
       "      <th>5</th>\n",
       "      <td>Copyright (c) 2017 The New York Times Company....</td>\n",
       "      <td>11</td>\n",
       "      <td>{'section': 'Technology', 'type': 'Article', '...</td>\n",
       "      <td>OK</td>\n",
       "    </tr>\n",
       "    <tr>\n",
       "      <th>6</th>\n",
       "      <td>Copyright (c) 2017 The New York Times Company....</td>\n",
       "      <td>11</td>\n",
       "      <td>{'section': 'Technology', 'type': 'Article', '...</td>\n",
       "      <td>OK</td>\n",
       "    </tr>\n",
       "    <tr>\n",
       "      <th>7</th>\n",
       "      <td>Copyright (c) 2017 The New York Times Company....</td>\n",
       "      <td>11</td>\n",
       "      <td>{'section': 'Technology', 'type': 'Article', '...</td>\n",
       "      <td>OK</td>\n",
       "    </tr>\n",
       "    <tr>\n",
       "      <th>8</th>\n",
       "      <td>Copyright (c) 2017 The New York Times Company....</td>\n",
       "      <td>11</td>\n",
       "      <td>{'section': 'Technology', 'type': 'Article', '...</td>\n",
       "      <td>OK</td>\n",
       "    </tr>\n",
       "    <tr>\n",
       "      <th>9</th>\n",
       "      <td>Copyright (c) 2017 The New York Times Company....</td>\n",
       "      <td>11</td>\n",
       "      <td>{'section': 'Technology', 'type': 'Article', '...</td>\n",
       "      <td>OK</td>\n",
       "    </tr>\n",
       "    <tr>\n",
       "      <th>10</th>\n",
       "      <td>Copyright (c) 2017 The New York Times Company....</td>\n",
       "      <td>11</td>\n",
       "      <td>{'section': 'Technology', 'type': 'Article', '...</td>\n",
       "      <td>OK</td>\n",
       "    </tr>\n",
       "  </tbody>\n",
       "</table>\n",
       "</div>"
      ],
      "text/plain": [
       "                                            copyright  num_results  \\\n",
       "0   Copyright (c) 2017 The New York Times Company....           11   \n",
       "1   Copyright (c) 2017 The New York Times Company....           11   \n",
       "2   Copyright (c) 2017 The New York Times Company....           11   \n",
       "3   Copyright (c) 2017 The New York Times Company....           11   \n",
       "4   Copyright (c) 2017 The New York Times Company....           11   \n",
       "5   Copyright (c) 2017 The New York Times Company....           11   \n",
       "6   Copyright (c) 2017 The New York Times Company....           11   \n",
       "7   Copyright (c) 2017 The New York Times Company....           11   \n",
       "8   Copyright (c) 2017 The New York Times Company....           11   \n",
       "9   Copyright (c) 2017 The New York Times Company....           11   \n",
       "10  Copyright (c) 2017 The New York Times Company....           11   \n",
       "\n",
       "                                              results status  \n",
       "0   {'section': 'Technology', 'type': 'Article', '...     OK  \n",
       "1   {'section': 'Technology', 'type': 'Article', '...     OK  \n",
       "2   {'section': 'Technology', 'type': 'Article', '...     OK  \n",
       "3   {'section': 'Technology', 'type': 'Article', '...     OK  \n",
       "4   {'section': 'Technology', 'type': 'Article', '...     OK  \n",
       "5   {'section': 'Technology', 'type': 'Article', '...     OK  \n",
       "6   {'section': 'Technology', 'type': 'Article', '...     OK  \n",
       "7   {'section': 'Technology', 'type': 'Article', '...     OK  \n",
       "8   {'section': 'Technology', 'type': 'Article', '...     OK  \n",
       "9   {'section': 'Technology', 'type': 'Article', '...     OK  \n",
       "10  {'section': 'Technology', 'type': 'Article', '...     OK  "
      ]
     },
     "execution_count": 28,
     "metadata": {},
     "output_type": "execute_result"
    }
   ],
   "source": [
    "response = urllib.request.urlopen(url2)\n",
    "response = response.read()\n",
    "data = json.loads((response.decode(\"utf-8\")))\n",
    "\n",
    "df = pd.read_json(response)\n",
    "\n",
    "#pd.io.json.json_normalize(response, 'published_date' ['data'])\n",
    "\n",
    "df\n",
    "\n"
   ]
  }
 ],
 "metadata": {
  "kernelspec": {
   "display_name": "Python 3",
   "language": "python",
   "name": "python3"
  },
  "language_info": {
   "codemirror_mode": {
    "name": "ipython",
    "version": 3
   },
   "file_extension": ".py",
   "mimetype": "text/x-python",
   "name": "python",
   "nbconvert_exporter": "python",
   "pygments_lexer": "ipython3",
   "version": "3.5.2"
  }
 },
 "nbformat": 4,
 "nbformat_minor": 2
}
